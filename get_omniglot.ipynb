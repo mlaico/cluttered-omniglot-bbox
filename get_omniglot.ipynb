{
 "cells": [
  {
   "cell_type": "code",
   "execution_count": null,
   "metadata": {},
   "outputs": [],
   "source": [
    "import os\n",
    "import pickle\n",
    "\n",
    "from PIL import Image\n",
    "from PIL import ImageOps\n",
    "\n",
    "from urllib.request import urlretrieve\n",
    "import zipfile"
   ]
  },
  {
   "cell_type": "code",
   "execution_count": null,
   "metadata": {},
   "outputs": [],
   "source": [
    "# Set target path\n",
    "tpath = os.path.join(os.getcwd(), 'omniglot/')"
   ]
  },
  {
   "cell_type": "code",
   "execution_count": null,
   "metadata": {},
   "outputs": [],
   "source": [
    "# Download and extract omniglot\n",
    "origin_folder = \"https://github.com/brendenlake/omniglot/raw/master/python/\"\n",
    "\n",
    "fnames = [\"images_evaluation.zip\", \"images_background.zip\"]\n",
    "\n",
    "for fname in fnames:\n",
    "    origin = os.path.join(origin_folder, fname)\n",
    "    if not os.path.isdir('omniglot/'):\n",
    "        os.makedirs('omniglot/')\n",
    "    fpath = os.path.join(tpath, fname)\n",
    "    urlretrieve(origin, fpath)\n",
    "    zipfile.ZipFile(fpath).extractall(tpath)"
   ]
  },
  {
   "cell_type": "code",
   "execution_count": null,
   "metadata": {},
   "outputs": [],
   "source": [
    "# Open all images and collect them in a nested list\n",
    "def load_chars(path):\n",
    "    chars = []\n",
    "    char_locs = []\n",
    "\n",
    "    alphabet = [os.path.join(path, x) for x in sorted(os.listdir(path))]\n",
    "    for alph in alphabet:\n",
    "        character = [os.path.join(alph, x) for x in sorted(os.listdir(alph))]\n",
    "        alph_chars = []\n",
    "        alph_char_locs = []\n",
    "\n",
    "        for char in character:\n",
    "            char_insts = [os.path.join(char, x) for x in sorted(os.listdir(char))]\n",
    "            char_instances = []\n",
    "\n",
    "            for char_inst in char_insts:\n",
    "                tmp_im = Image.open(char_inst)\n",
    "                tmp_im = tmp_im.convert('L')\n",
    "                tmp_im = ImageOps.invert(tmp_im)\n",
    "                tmp_im = tmp_im.convert('1')\n",
    "\n",
    "                char_instances.append(tmp_im)\n",
    "\n",
    "            alph_chars.append(char_instances)\n",
    "            alph_char_locs.append(char_insts)\n",
    "\n",
    "        chars.append(alph_chars)\n",
    "        char_locs.append(alph_char_locs)\n",
    "        \n",
    "    return chars, char_locs"
   ]
  },
  {
   "cell_type": "code",
   "execution_count": null,
   "metadata": {},
   "outputs": [],
   "source": [
    "# Run image opening and collection function\n",
    "chars_train, char_locs_train = load_chars(path = os.path.join(tpath, 'images_background/'))\n",
    "chars_eval, char_locs_eval = load_chars(path = os.path.join(tpath, 'images_evaluation/'))"
   ]
  },
  {
   "cell_type": "code",
   "execution_count": null,
   "metadata": {},
   "outputs": [],
   "source": [
    "#Write dataset to pickle file\n",
    "if not os.path.exists(tpath):\n",
    "    os.makedirs(tpath)\n",
    "#Write train split containing all alphabets from images_background\n",
    "with open(tpath + 'chars_train.pickle', 'wb') as fp:   \n",
    "    pickle.dump(chars_train, fp)\n",
    "with open(tpath + 'char_locs_train.pickle', 'wb') as fp:   \n",
    "    pickle.dump(char_locs_train, fp)\n",
    "#Write evaluation split containing the first 10 alphabets from images_evaluation\n",
    "with open(tpath + 'chars_eval.pickle', 'wb') as fp:   \n",
    "    pickle.dump(chars_eval[:10], fp)\n",
    "with open(tpath + 'char_locs_eval.pickle', 'wb') as fp:   \n",
    "    pickle.dump(char_locs_eval[:10], fp)\n",
    "#Write test split containing the remaining 10 alphabets from images_evaluation \n",
    "with open(tpath + 'chars_test.pickle', 'wb') as fp:   \n",
    "    pickle.dump(chars_eval[10:], fp)\n",
    "with open(tpath + 'char_locs_test.pickle', 'wb') as fp:   \n",
    "    pickle.dump(char_locs_eval[10:], fp)"
   ]
  }
 ],
 "metadata": {
  "kernelspec": {
   "display_name": "Python 3",
   "language": "python",
   "name": "python3"
  },
  "language_info": {
   "codemirror_mode": {
    "name": "ipython",
    "version": 3
   },
   "file_extension": ".py",
   "mimetype": "text/x-python",
   "name": "python",
   "nbconvert_exporter": "python",
   "pygments_lexer": "ipython3",
   "version": "3.6.3"
  },
  "varInspector": {
   "cols": {
    "lenName": 16,
    "lenType": 16,
    "lenVar": 40
   },
   "kernels_config": {
    "python": {
     "delete_cmd_postfix": "",
     "delete_cmd_prefix": "del ",
     "library": "var_list.py",
     "varRefreshCmd": "print(var_dic_list())"
    },
    "r": {
     "delete_cmd_postfix": ") ",
     "delete_cmd_prefix": "rm(",
     "library": "var_list.r",
     "varRefreshCmd": "cat(var_dic_list()) "
    }
   },
   "types_to_exclude": [
    "module",
    "function",
    "builtin_function_or_method",
    "instance",
    "_Feature"
   ],
   "window_display": false
  }
 },
 "nbformat": 4,
 "nbformat_minor": 2
}
